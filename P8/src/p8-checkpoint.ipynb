{
 "cells": [
  {
   "cell_type": "code",
   "execution_count": 1,
   "id": "e2b00f7d-6f30-4afd-b56e-a3f0f2d0fedb",
   "metadata": {},
   "outputs": [
    {
     "data": {
      "text/plain": [
       "'55025'"
      ]
     },
     "execution_count": 1,
     "metadata": {},
     "output_type": "execute_result"
    }
   ],
   "source": [
    "#q1\n",
    "from google.cloud import bigquery\n",
    "import os\n",
    "\n",
    "os.environ[\"GOOGLE_CLOUD_PROJECT\"] = \"long-micron-435219-u6\"\n",
    "\n",
    "client = bigquery.Client(project='long-micron-435219-u6')\n",
    "\n",
    "query1 = \"\"\"\n",
    "SELECT geo_id\n",
    "FROM `bigquery-public-data.geo_us_boundaries.counties`\n",
    "WHERE county_name = 'Dane'\n",
    "LIMIT 1\n",
    "\"\"\"\n",
    "\n",
    "job_config = bigquery.QueryJobConfig(use_query_cache=False)\n",
    "query_job1 = client.query(query1, job_config=job_config)\n",
    "results1 = query_job1.result()\n",
    "\n",
    "geo_id_for_dane = None\n",
    "for row in results1:\n",
    "    geo_id_for_dane = row.geo_id\n",
    "\n",
    "geo_id_for_dane"
   ]
  },
  {
   "cell_type": "code",
   "execution_count": 2,
   "id": "571a6f34-7fa7-422f-97b1-46022f7f7097",
   "metadata": {},
   "outputs": [
    {
     "data": {
      "text/plain": [
       "{'48': 254, '13': 159, '51': 133, '21': 120, '29': 115}"
      ]
     },
     "execution_count": 2,
     "metadata": {},
     "output_type": "execute_result"
    }
   ],
   "source": [
    "#q2\n",
    "query2 = \"\"\"\n",
    "SELECT state_fips_code, COUNT(*) as county_count\n",
    "FROM `bigquery-public-data.geo_us_boundaries.counties`\n",
    "GROUP BY state_fips_code\n",
    "ORDER BY county_count DESC\n",
    "LIMIT 5\n",
    "\"\"\"\n",
    "\n",
    "query_job2 = client.query(query2, job_config=job_config) \n",
    "results2 = query_job2.result()\n",
    "\n",
    "counties_per_state = {}\n",
    "for row in results2:\n",
    "    counties_per_state[row.state_fips_code] = row.county_count\n",
    "\n",
    "counties_per_state"
   ]
  },
  {
   "cell_type": "code",
   "execution_count": 3,
   "id": "9f2669f3-a182-4007-bea1-7260ea223626",
   "metadata": {},
   "outputs": [
    {
     "data": {
      "text/plain": [
       "{'q1': '10 MB', 'q2': '10 MB'}"
      ]
     },
     "execution_count": 3,
     "metadata": {},
     "output_type": "execute_result"
    }
   ],
   "source": [
    "#q3\n",
    "output = {\n",
    "    \"q1\": f\"{int(query_job1.total_bytes_billed / (1024 * 1024))} MB\",\n",
    "    \"q2\": f\"{int(query_job2.total_bytes_billed / (1024 * 1024))} MB\"\n",
    "}\n",
    "output"
   ]
  },
  {
   "cell_type": "code",
   "execution_count": 4,
   "id": "db21a85b-69cd-4023-8dd0-c80b5ececfa1",
   "metadata": {},
   "outputs": [
    {
     "name": "stdout",
     "output_type": "stream",
     "text": [
      "Table loaded\n"
     ]
    }
   ],
   "source": [
    "#HDMA Parquet Table Creation\n",
    "\n",
    "from google.cloud import bigquery\n",
    "\n",
    "client = bigquery.Client(project='long-micron-435219-u6')\n",
    "\n",
    "dataset_id = f\"{client.project}.p8\"\n",
    "dataset = bigquery.Dataset(dataset_id)\n",
    "dataset.location = \"US\"\n",
    "dataset = client.create_dataset(dataset, exists_ok=True)\n",
    "\n",
    "job_config = bigquery.LoadJobConfig(source_format=bigquery.SourceFormat.PARQUET)\n",
    "uri = f\"gs://ss7-wadadkar-bucket/hdma-wi-2021.parquet\"\n",
    "\n",
    "load_job = client.load_table_from_uri(\n",
    "    uri,\n",
    "    dataset.table(\"hdma\"),\n",
    "    job_config=job_config\n",
    ")\n",
    "\n",
    "load_job.result()\n",
    "\n",
    "print(\"Table loaded\")"
   ]
  },
  {
   "cell_type": "code",
   "execution_count": 5,
   "id": "abf92344-6313-4c17-b057-fcc85fa9211a",
   "metadata": {},
   "outputs": [
    {
     "data": {
      "text/plain": [
       "['p8']"
      ]
     },
     "execution_count": 5,
     "metadata": {},
     "output_type": "execute_result"
    }
   ],
   "source": [
    "#q4\n",
    "from google.cloud import bigquery\n",
    "\n",
    "# Create a BigQuery client\n",
    "client = bigquery.Client(project='long-micron-435219-u6')\n",
    "\n",
    "# Fetch all datasets in the project\n",
    "datasets = list(client.list_datasets())  # Make a list to iterate or print\n",
    "dataset_ids = [dataset.dataset_id for dataset in datasets]  # List of dataset IDs\n",
    "\n",
    "dataset_ids"
   ]
  },
  {
   "cell_type": "code",
   "execution_count": 6,
   "id": "1f6b6f22-a99c-4dcf-83a8-f35b9052e074",
   "metadata": {},
   "outputs": [
    {
     "data": {
      "text/plain": [
       "{'Milwaukee': 46570,\n",
       " 'Dane': 38557,\n",
       " 'Waukesha': 34159,\n",
       " 'Brown': 15615,\n",
       " 'Racine': 13007,\n",
       " 'Outagamie': 11523,\n",
       " 'Kenosha': 10744,\n",
       " 'Washington': 10726,\n",
       " 'Rock': 9834,\n",
       " 'Winnebago': 9310}"
      ]
     },
     "execution_count": 6,
     "metadata": {},
     "output_type": "execute_result"
    }
   ],
   "source": [
    "#q5\n",
    "from google.cloud import bigquery\n",
    "\n",
    "def fetch_top_counties_by_loan_count():  \n",
    "    query = \"\"\"\n",
    "    SELECT \n",
    "      counties.county_name AS CountyName, \n",
    "      COUNT(DISTINCT hdma.index) AS LoanCount\n",
    "    FROM \n",
    "      `bigquery-public-data.geo_us_boundaries.counties` AS counties\n",
    "    JOIN \n",
    "      `long-micron-435219-u6.p8.hdma` AS hdma\n",
    "      ON hdma.county_code = counties.county_fips_code\n",
    "    WHERE \n",
    "      counties.state_fips_code = '55'  -- Only Wisconsin counties\n",
    "    GROUP BY \n",
    "      CountyName\n",
    "    ORDER BY \n",
    "      LoanCount DESC\n",
    "    LIMIT 10;\n",
    "    \"\"\"\n",
    "    query_job = client.query(query)\n",
    "    results = query_job.result()\n",
    "\n",
    "    return {row['CountyName']: row['LoanCount'] for row in results}\n",
    "\n",
    "top_counties_by_loan_count = fetch_top_counties_by_loan_count()\n",
    "top_counties_by_loan_count"
   ]
  },
  {
   "cell_type": "code",
   "execution_count": 7,
   "id": "833d8c2b-65f2-4c13-ad28-b280049e10be",
   "metadata": {},
   "outputs": [
    {
     "data": {
      "text/plain": [
       "Table(TableReference(DatasetReference('long-micron-435219-u6', 'p8'), 'applications'))"
      ]
     },
     "execution_count": 7,
     "metadata": {},
     "output_type": "execute_result"
    }
   ],
   "source": [
    "#Applications Table Creation (From Loan Applications Spreadsheet)\n",
    "\n",
    "config = bigquery.ExternalConfig(\"GOOGLE_SHEETS\")\n",
    "config.source_uris = [\"https://docs.google.com/spreadsheets/d/13e14LzDDm9U4y2KddlKFAy7exNdbo1OwJa-OTe4ywiw/edit\"]\n",
    "config.autodetect = True\n",
    "\n",
    "table = bigquery.Table(\"long-micron-435219-u6.p8.applications\")\n",
    "table.external_data_configuration = config\n",
    "client.create_table(table, exists_ok=True)"
   ]
  },
  {
   "cell_type": "code",
   "execution_count": 8,
   "id": "db1101d8-a707-4714-aafe-4c9331b4fa17",
   "metadata": {},
   "outputs": [
    {
     "data": {
      "text/plain": [
       "41"
      ]
     },
     "execution_count": 8,
     "metadata": {},
     "output_type": "execute_result"
    }
   ],
   "source": [
    "#q6\n",
    "def count_applications_by_income(client, dataset_id, table_id, income):\n",
    "    query = f\"\"\"\n",
    "    SELECT COUNT(*) as total_applications\n",
    "    FROM `{dataset_id}.{table_id}`\n",
    "    WHERE income = @income\n",
    "    \"\"\"\n",
    "    job_config = bigquery.QueryJobConfig(\n",
    "        query_parameters=[\n",
    "            bigquery.ScalarQueryParameter(\"income\", \"INT64\", income)\n",
    "        ]\n",
    "    )\n",
    "    query_job = client.query(query, job_config=job_config)\n",
    "    results = query_job.result()\n",
    "\n",
    "    for row in results:\n",
    "        return row.total_applications\n",
    "\n",
    "# Initialize a BigQuery client\n",
    "client = bigquery.Client(project='long-micron-435219-u6')\n",
    "dataset_id = 'p8'\n",
    "table_id = 'applications'\n",
    "your_chosen_income = 100000  \n",
    "\n",
    "total_applications = count_applications_by_income(client, dataset_id, table_id, your_chosen_income)\n",
    "total_applications"
   ]
  },
  {
   "cell_type": "code",
   "execution_count": 9,
   "id": "7565163f-e4f9-4175-959a-8fc82f6cb602",
   "metadata": {},
   "outputs": [
    {
     "data": {
      "text/plain": [
       "0.038965866511495584"
      ]
     },
     "execution_count": 9,
     "metadata": {},
     "output_type": "execute_result"
    }
   ],
   "source": [
    "#q7\n",
    "def create_and_evaluate_linear_regression_model(client, dataset_id, table_id):\n",
    "    model_id = f\"{dataset_id}.income_loan_model\"\n",
    "    create_model_query = f\"\"\"\n",
    "    CREATE OR REPLACE MODEL `{model_id}`\n",
    "    OPTIONS(model_type='LINEAR_REG', input_label_cols=['loan_amount']) AS\n",
    "    SELECT \n",
    "        CAST(income AS FLOAT64) AS income, \n",
    "        CAST(loan_amount AS FLOAT64) AS loan_amount\n",
    "    FROM `{dataset_id}.{table_id}`\n",
    "    \"\"\"\n",
    "    client.query(create_model_query).result()\n",
    "\n",
    "    # Evaluate the model\n",
    "    evaluate_model_query = f\"\"\"\n",
    "    SELECT *\n",
    "    FROM ML.EVALUATE(MODEL `{model_id}`)\n",
    "    \"\"\"\n",
    "    query_job = client.query(evaluate_model_query)\n",
    "    results = query_job.result()\n",
    "\n",
    "    for row in results:\n",
    "        return row.r2_score\n",
    "\n",
    "client = bigquery.Client(project='long-micron-435219-u6')\n",
    "dataset_id = 'p8'\n",
    "table_id = 'applications'\n",
    "\n",
    "r2_score = create_and_evaluate_linear_regression_model(client, dataset_id, table_id)\n",
    "r2_score"
   ]
  },
  {
   "cell_type": "code",
   "execution_count": 10,
   "id": "3852d56f-96a7-44b6-9bf6-19486c025923",
   "metadata": {},
   "outputs": [
    {
     "data": {
      "text/plain": [
       "6.685422190681019"
      ]
     },
     "execution_count": 10,
     "metadata": {},
     "output_type": "execute_result"
    }
   ],
   "source": [
    "#q8\n",
    "def closest_application_to_capitol(client, dataset_id, table_id, capitol_lat, capitol_long):\n",
    "    query = f\"\"\"\n",
    "    SELECT MIN(ST_DISTANCE(ST_GEOGPOINT(longitude, latitude), ST_GEOGPOINT({capitol_long}, {capitol_lat}))) as closest_distance\n",
    "    FROM `{dataset_id}.{table_id}`\n",
    "    \"\"\"\n",
    "    query_job = client.query(query)\n",
    "    results = query_job.result()\n",
    "\n",
    "    for row in results:\n",
    "        return row.closest_distance\n",
    "\n",
    "CAPITOL_LATITUDE = 43.074761\n",
    "CAPITOL_LONGITUDE = -89.384054\n",
    "\n",
    "client = bigquery.Client(project='long-micron-435219-u6')\n",
    "dataset_id = 'p8'\n",
    "table_id = 'applications'\n",
    "\n",
    "closest_distance = closest_application_to_capitol(client, dataset_id, table_id, CAPITOL_LATITUDE, CAPITOL_LONGITUDE)\n",
    "closest_distance"
   ]
  },
  {
   "cell_type": "code",
   "execution_count": 11,
   "id": "6a3bfb3e-3f16-4663-8871-e7198806d383",
   "metadata": {},
   "outputs": [
    {
     "data": {
      "text/plain": [
       "{'Price': 2,\n",
       " 'Dane': 73,\n",
       " 'Oconto': 1,\n",
       " 'Door': 9,\n",
       " 'Waushara': 1,\n",
       " 'Milwaukee': 7,\n",
       " 'Ashland': 1,\n",
       " 'Brown': 3,\n",
       " 'Bayfield': 3,\n",
       " 'Rock': 1,\n",
       " 'Sauk': 3,\n",
       " 'Marinette': 3,\n",
       " 'Oneida': 3,\n",
       " 'Douglas': 1,\n",
       " 'Juneau': 2,\n",
       " 'Forest': 1,\n",
       " 'Shawano': 2,\n",
       " 'Green': 1,\n",
       " 'Wood': 1,\n",
       " 'Winnebago': 1,\n",
       " 'Sawyer': 1,\n",
       " 'Fond du Lac': 2,\n",
       " 'Walworth': 1,\n",
       " 'Columbia': 1,\n",
       " 'Taylor': 1,\n",
       " 'Jefferson': 4,\n",
       " 'Waukesha': 1,\n",
       " 'St. Croix': 2,\n",
       " 'Vilas': 1,\n",
       " 'Iowa': 1,\n",
       " 'Barron': 1}"
      ]
     },
     "execution_count": 11,
     "metadata": {},
     "output_type": "execute_result"
    }
   ],
   "source": [
    "#q9\n",
    "def application_counts_per_wi_county(client, dataset_id, table_id):\n",
    "    query = f\"\"\"\n",
    "    WITH WisconsinCounties AS (\n",
    "        SELECT county_name, county_geom\n",
    "        FROM `bigquery-public-data.geo_us_boundaries.counties`\n",
    "        WHERE state_fips_code = '55'  # Only Wisconsin counties\n",
    "    )\n",
    "    SELECT county.county_name, COUNT(*) as count\n",
    "    FROM `{dataset_id}.{table_id}` as apps\n",
    "    JOIN WisconsinCounties as county\n",
    "    ON ST_CONTAINS(county.county_geom, ST_GEOGPOINT(apps.longitude, apps.latitude))\n",
    "    GROUP BY county.county_name\n",
    "    \"\"\"\n",
    "    query_job = client.query(query)\n",
    "    results = query_job.result()\n",
    "\n",
    "    return {row.county_name: row.count for row in results}\n",
    "\n",
    "client = bigquery.Client(project='long-micron-435219-u6')\n",
    "dataset_id = 'p8'\n",
    "table_id = 'applications'\n",
    "\n",
    "county_application_counts = application_counts_per_wi_county(client, dataset_id, table_id)\n",
    "county_application_counts"
   ]
  },
  {
   "cell_type": "code",
   "execution_count": 12,
   "id": "847f749a-33ab-4034-9c82-0eaea617b10a",
   "metadata": {},
   "outputs": [
    {
     "data": {
      "text/plain": [
       "['Columbia', 'Dodge', 'Green', 'Iowa', 'Jefferson', 'Rock', 'Sauk']"
      ]
     },
     "execution_count": 12,
     "metadata": {},
     "output_type": "execute_result"
    }
   ],
   "source": [
    "#q10\n",
    "def find_bordering_counties(client, target_county='Dane', state_fips='55'):\n",
    "    query = f\"\"\"\n",
    "    WITH CountyGeoms AS (\n",
    "        SELECT county_name, county_geom\n",
    "        FROM `bigquery-public-data.geo_us_boundaries.counties`\n",
    "        WHERE state_fips_code = '{state_fips}'  -- Wisconsin FIPS code\n",
    "    )\n",
    "    SELECT a.county_name AS bordering_county\n",
    "    FROM CountyGeoms AS a, CountyGeoms AS b\n",
    "    WHERE ST_TOUCHES(a.county_geom, b.county_geom)\n",
    "    AND b.county_name = '{target_county}'\n",
    "    AND a.county_name != '{target_county}'\n",
    "    ORDER BY a.county_name\n",
    "    \"\"\"\n",
    "    query_job = client.query(query)\n",
    "    results = query_job.result()\n",
    "\n",
    "    return [row.bordering_county for row in results]\n",
    "\n",
    "client = bigquery.Client(project='long-micron-435219-u6')\n",
    "\n",
    "bordering_counties = find_bordering_counties(client)\n",
    "bordering_counties"
   ]
  }
 ],
 "metadata": {
  "kernelspec": {
   "display_name": "Python 3 (ipykernel)",
   "language": "python",
   "name": "python3"
  },
  "language_info": {
   "codemirror_mode": {
    "name": "ipython",
    "version": 3
   },
   "file_extension": ".py",
   "mimetype": "text/x-python",
   "name": "python",
   "nbconvert_exporter": "python",
   "pygments_lexer": "ipython3",
   "version": "3.12.3"
  }
 },
 "nbformat": 4,
 "nbformat_minor": 5
}

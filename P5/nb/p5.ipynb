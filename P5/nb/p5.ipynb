{
 "cells": [
  {
   "cell_type": "code",
   "execution_count": 1,
   "id": "44a0cadf-ee13-4bb8-8e89-d1203a78a271",
   "metadata": {},
   "outputs": [],
   "source": [
    "#Names: Devarshi Wadadkar, Shreyas Subramanian"
   ]
  },
  {
   "cell_type": "code",
   "execution_count": 2,
   "id": "2031bdb6-2910-483b-a1bf-afbdc880798b",
   "metadata": {},
   "outputs": [],
   "source": [
    "!hdfs dfs -D dfs.replication=1 -cp -f data/*.csv hdfs://nn:9000/"
   ]
  },
  {
   "cell_type": "code",
   "execution_count": 3,
   "id": "33b35440-4ba6-41d0-be36-605bb5b9ea27",
   "metadata": {},
   "outputs": [
    {
     "name": "stderr",
     "output_type": "stream",
     "text": [
      "Setting default log level to \"WARN\".\n",
      "To adjust logging level use sc.setLogLevel(newLevel). For SparkR, use setLogLevel(newLevel).\n",
      "24/11/05 20:38:46 WARN NativeCodeLoader: Unable to load native-hadoop library for your platform... using builtin-java classes where applicable\n"
     ]
    }
   ],
   "source": [
    "from pyspark.sql import SparkSession\n",
    "spark = (SparkSession.builder.appName(\"cs544\")\n",
    "         .master(\"spark://boss:7077\")\n",
    "         .config(\"spark.executor.memory\", \"512M\")\n",
    "         .config(\"spark.sql.warehouse.dir\", \"hdfs://nn:9000/user/hive/warehouse\")\n",
    "         .enableHiveSupport()\n",
    "         .getOrCreate())"
   ]
  },
  {
   "cell_type": "code",
   "execution_count": 4,
   "id": "62a1d299-4c88-4c9f-861c-b69a1a6377bf",
   "metadata": {},
   "outputs": [
    {
     "name": "stderr",
     "output_type": "stream",
     "text": [
      "                                                                                \r"
     ]
    },
    {
     "data": {
      "text/plain": [
       "298"
      ]
     },
     "execution_count": 4,
     "metadata": {},
     "output_type": "execute_result"
    }
   ],
   "source": [
    "#q1\n",
    "# Reading the CSV file with header and inferring the schema\n",
    "banks_df = spark.read.csv(\"hdfs://nn:9000/arid2017_to_lei_xref_csv.csv\", header=True, inferSchema=True)\n",
    "\n",
    "# Converting the DataFrame to an RDD\n",
    "banks_rdd = banks_df.rdd\n",
    "\n",
    "# Practice step: Taking the first 3 rows to inspect the structure\n",
    "#rows = banks_rdd.take(3)\n",
    "#print(rows)  # This line will display the first 3 rows to help you understand the structure\n",
    "\n",
    "# Filtering rows where the 'respondent_name' starts with \"The\"\n",
    "banks_starting_with_the = banks_rdd.filter(lambda row: row['respondent_name'].startswith(\"The\"))\n",
    "\n",
    "# Counting the number of banks that match the condition\n",
    "count_of_banks_starting_with_the = banks_starting_with_the.count()\n",
    "\n",
    "# Display the count\n",
    "count_of_banks_starting_with_the"
   ]
  },
  {
   "cell_type": "code",
   "execution_count": 5,
   "id": "ba7090cd-ee2f-433a-a265-3c28a7f033ea",
   "metadata": {},
   "outputs": [
    {
     "data": {
      "text/plain": [
       "298"
      ]
     },
     "execution_count": 5,
     "metadata": {},
     "output_type": "execute_result"
    }
   ],
   "source": [
    "#q2\n",
    "# Filtering the DataFrame where 'respondent_name' starts with \"The\"\n",
    "banks_starting_with_the_df = banks_df.filter(\"respondent_name LIKE 'The%'\")\n",
    "\n",
    "# Counting the number of banks that match the condition\n",
    "count_of_banks_starting_with_the = banks_starting_with_the_df.count()\n",
    "\n",
    "# Display the count\n",
    "count_of_banks_starting_with_the"
   ]
  },
  {
   "cell_type": "code",
   "execution_count": 6,
   "id": "dc1f336e-4583-4e37-8578-747f6b5c0977",
   "metadata": {},
   "outputs": [
    {
     "name": "stderr",
     "output_type": "stream",
     "text": [
      "24/11/05 20:39:06 WARN HiveConf: HiveConf of name hive.stats.jdbc.timeout does not exist\n",
      "24/11/05 20:39:06 WARN HiveConf: HiveConf of name hive.stats.retries.wait does not exist\n",
      "24/11/05 20:39:08 WARN ObjectStore: Version information not found in metastore. hive.metastore.schema.verification is not enabled so recording the schema version 2.3.0\n",
      "24/11/05 20:39:08 WARN ObjectStore: setMetaStoreSchemaVersion called but recording version is disabled: version = 2.3.0, comment = Set by MetaStore UNKNOWN@172.18.0.6\n",
      "24/11/05 20:39:08 WARN HadoopFSUtils: The directory hdfs://nn:9000/user/hive/warehouse/banks was not found. Was it deleted very recently?\n",
      "24/11/05 20:39:08 WARN ObjectStore: Failed to get database global_temp, returning NoSuchObjectException\n",
      "24/11/05 20:39:09 WARN FileUtils: File does not exist: hdfs://nn:9000/user/hive/warehouse/banks; Force to delete it.\n",
      "24/11/05 20:39:09 ERROR FileUtils: Failed to delete hdfs://nn:9000/user/hive/warehouse/banks\n",
      "24/11/05 20:39:10 WARN SessionState: METASTORE_FILTER_HOOK will be ignored, since hive.security.authorization.manager is set to instance of HiveAuthorizerFactory.\n",
      "24/11/05 20:39:10 WARN HiveConf: HiveConf of name hive.internal.ss.authz.settings.applied.marker does not exist\n",
      "24/11/05 20:39:10 WARN HiveConf: HiveConf of name hive.stats.jdbc.timeout does not exist\n",
      "24/11/05 20:39:10 WARN HiveConf: HiveConf of name hive.stats.retries.wait does not exist\n"
     ]
    }
   ],
   "source": [
    "# Save the DataFrame as a Hive table named \"banks\"\n",
    "banks_df.write.saveAsTable(\"banks\", mode=\"overwrite\")\n"
   ]
  },
  {
   "cell_type": "code",
   "execution_count": 7,
   "id": "f140f9da-37e7-4840-a57e-3123e0ea29bb",
   "metadata": {},
   "outputs": [],
   "source": [
    "# Use Spark SQL to count banks whose names start with \"The\"\n",
    "result_df = spark.sql(\"SELECT COUNT(*) FROM banks WHERE respondent_name LIKE 'The%'\")"
   ]
  },
  {
   "cell_type": "code",
   "execution_count": 8,
   "id": "d4bc58f8-498c-4466-8674-77a3362d4284",
   "metadata": {},
   "outputs": [
    {
     "data": {
      "text/plain": [
       "298"
      ]
     },
     "execution_count": 8,
     "metadata": {},
     "output_type": "execute_result"
    }
   ],
   "source": [
    "#q3\n",
    "# Extract the count as a single integer value\n",
    "count_of_banks_starting_with_the = result_df.collect()[0][0]\n",
    "\n",
    "# Display the count\n",
    "count_of_banks_starting_with_the"
   ]
  },
  {
   "cell_type": "code",
   "execution_count": 9,
   "id": "1a0e5eb3-8bf1-4631-be68-36a3be6eb2b5",
   "metadata": {},
   "outputs": [
    {
     "name": "stderr",
     "output_type": "stream",
     "text": [
      "24/11/05 20:39:16 WARN HadoopFSUtils: The directory hdfs://nn:9000/user/hive/warehouse/loans was not found. Was it deleted very recently?\n",
      "24/11/05 20:39:16 WARN FileUtils: File does not exist: hdfs://nn:9000/user/hive/warehouse/loans; Force to delete it.\n",
      "24/11/05 20:39:16 ERROR FileUtils: Failed to delete hdfs://nn:9000/user/hive/warehouse/loans\n",
      "24/11/05 20:39:16 WARN SparkStringUtils: Truncated the string representation of a plan since it was too large. This behavior can be adjusted by setting 'spark.sql.debug.maxToStringFields'.\n",
      "                                                                                \r"
     ]
    }
   ],
   "source": [
    "# Load the HDMA data into a DataFrame\n",
    "loans_df = spark.read.csv(\"hdfs://nn:9000/hdma-wi-2021.csv\", header=True, inferSchema=True)\n",
    "\n",
    "# Write the DataFrame to a Hive table called \"loans\" with bucketing on county_code\n",
    "loans_df.write \\\n",
    "    .bucketBy(8, \"county_code\") \\\n",
    "    .mode(\"overwrite\") \\\n",
    "    .saveAsTable(\"loans\")"
   ]
  },
  {
   "cell_type": "code",
   "execution_count": 10,
   "id": "2e36d31a-fdef-4aad-b868-cc26e2abf8f8",
   "metadata": {},
   "outputs": [],
   "source": [
    "# List of view names corresponding to the CSV file names\n",
    "view_names = [\n",
    "    \"ethnicity\", \"race\", \"sex\", \"states\", \"counties\", \"tracts\", \n",
    "    \"action_taken\", \"denial_reason\", \"loan_type\", \"loan_purpose\", \n",
    "    \"preapproval\", \"property_type\"\n",
    "]\n",
    "\n",
    "# Loop through each view name, read the corresponding CSV file, and create a view\n",
    "for view in view_names:\n",
    "    # Read the CSV file into a DataFrame\n",
    "    df = spark.read.csv(f\"hdfs://nn:9000/{view}.csv\", header=True, inferSchema=True)\n",
    "    \n",
    "    # Create a temporary view for the DataFrame\n",
    "    df.createOrReplaceTempView(view)"
   ]
  },
  {
   "cell_type": "code",
   "execution_count": 11,
   "id": "c0cba409-31e3-479c-9d59-3a49b7853ac6",
   "metadata": {},
   "outputs": [
    {
     "data": {
      "text/plain": [
       "{'banks': False,\n",
       " 'loans': False,\n",
       " 'action_taken': True,\n",
       " 'counties': True,\n",
       " 'denial_reason': True,\n",
       " 'ethnicity': True,\n",
       " 'loan_purpose': True,\n",
       " 'loan_type': True,\n",
       " 'preapproval': True,\n",
       " 'property_type': True,\n",
       " 'race': True,\n",
       " 'sex': True,\n",
       " 'states': True,\n",
       " 'tracts': True}"
      ]
     },
     "execution_count": 11,
     "metadata": {},
     "output_type": "execute_result"
    }
   ],
   "source": [
    "#q4\n",
    "# Use Spark SQL to show the tables in the warehouse\n",
    "tables_df = spark.sql(\"SHOW TABLES\")\n",
    "\n",
    "# Convert the DataFrame to a dictionary\n",
    "tables_dict = {row.tableName: row.isTemporary for row in tables_df.collect()}\n",
    "\n",
    "# Display the dictionary\n",
    "tables_dict"
   ]
  },
  {
   "cell_type": "code",
   "execution_count": 12,
   "id": "85c7ef7c-9fc9-4dad-9ed6-67d88a0b2a56",
   "metadata": {},
   "outputs": [
    {
     "name": "stderr",
     "output_type": "stream",
     "text": [
      "                                                                                \r"
     ]
    },
    {
     "data": {
      "text/plain": [
       "19739"
      ]
     },
     "execution_count": 12,
     "metadata": {},
     "output_type": "execute_result"
    }
   ],
   "source": [
    "#q5\n",
    "# SQL query to count loan applications for \"University of Wisconsin Credit Union\"\n",
    "loan_applications_count = spark.sql(\"\"\"\n",
    "    SELECT COUNT(*) AS application_count\n",
    "    FROM banks\n",
    "    INNER JOIN loans ON banks.lei_2020 = loans.lei\n",
    "    WHERE banks.respondent_name = 'University of Wisconsin Credit Union'\n",
    "\"\"\").collect()[0]['application_count']\n",
    "\n",
    "# Display the count of loan applications\n",
    "loan_applications_count"
   ]
  },
  {
   "cell_type": "code",
   "execution_count": 13,
   "id": "6691ba93-9ca7-45b2-9a26-25b3216f3b2c",
   "metadata": {},
   "outputs": [
    {
     "name": "stdout",
     "output_type": "stream",
     "text": [
      "== Physical Plan ==\n",
      "AdaptiveSparkPlan (12)\n",
      "+- HashAggregate (11)\n",
      "   +- Exchange (10)\n",
      "      +- HashAggregate (9)\n",
      "         +- Project (8)\n",
      "            +- BroadcastHashJoin Inner BuildLeft (7)\n",
      "               :- BroadcastExchange (4)\n",
      "               :  +- Project (3)\n",
      "               :     +- Filter (2)\n",
      "               :        +- Scan parquet spark_catalog.default.banks (1)\n",
      "               +- Filter (6)\n",
      "                  +- Scan parquet spark_catalog.default.loans (5)\n",
      "\n",
      "\n",
      "(1) Scan parquet spark_catalog.default.banks\n",
      "Output [2]: [respondent_name#65, lei_2020#69]\n",
      "Batched: true\n",
      "Location: InMemoryFileIndex [hdfs://nn:9000/user/hive/warehouse/banks]\n",
      "PushedFilters: [IsNotNull(respondent_name), EqualTo(respondent_name,University of Wisconsin Credit Union), IsNotNull(lei_2020)]\n",
      "ReadSchema: struct<respondent_name:string,lei_2020:string>\n",
      "\n",
      "(2) Filter\n",
      "Input [2]: [respondent_name#65, lei_2020#69]\n",
      "Condition : ((isnotnull(respondent_name#65) AND (respondent_name#65 = University of Wisconsin Credit Union)) AND isnotnull(lei_2020#69))\n",
      "\n",
      "(3) Project\n",
      "Output [1]: [lei_2020#69]\n",
      "Input [2]: [respondent_name#65, lei_2020#69]\n",
      "\n",
      "(4) BroadcastExchange\n",
      "Input [1]: [lei_2020#69]\n",
      "Arguments: HashedRelationBroadcastMode(List(input[0, string, true]),false), [plan_id=623]\n",
      "\n",
      "(5) Scan parquet spark_catalog.default.loans\n",
      "Output [1]: [lei#989]\n",
      "Batched: true\n",
      "Bucketed: false (bucket column(s) not read)\n",
      "Location: InMemoryFileIndex [hdfs://nn:9000/user/hive/warehouse/loans]\n",
      "PushedFilters: [IsNotNull(lei)]\n",
      "ReadSchema: struct<lei:string>\n",
      "\n",
      "(6) Filter\n",
      "Input [1]: [lei#989]\n",
      "Condition : isnotnull(lei#989)\n",
      "\n",
      "(7) BroadcastHashJoin\n",
      "Left keys [1]: [lei_2020#69]\n",
      "Right keys [1]: [lei#989]\n",
      "Join type: Inner\n",
      "Join condition: None\n",
      "\n",
      "(8) Project\n",
      "Output: []\n",
      "Input [2]: [lei_2020#69, lei#989]\n",
      "\n",
      "(9) HashAggregate\n",
      "Input: []\n",
      "Keys: []\n",
      "Functions [1]: [partial_count(1)]\n",
      "Aggregate Attributes [1]: [count#1094L]\n",
      "Results [1]: [count#1095L]\n",
      "\n",
      "(10) Exchange\n",
      "Input [1]: [count#1095L]\n",
      "Arguments: SinglePartition, ENSURE_REQUIREMENTS, [plan_id=628]\n",
      "\n",
      "(11) HashAggregate\n",
      "Input [1]: [count#1095L]\n",
      "Keys: []\n",
      "Functions [1]: [count(1)]\n",
      "Aggregate Attributes [1]: [count(1)#1092L]\n",
      "Results [1]: [count(1)#1092L AS application_count#1091L]\n",
      "\n",
      "(12) AdaptiveSparkPlan\n",
      "Output [1]: [application_count#1091L]\n",
      "Arguments: isFinalPlan=false\n",
      "\n",
      "\n"
     ]
    }
   ],
   "source": [
    "#q6\n",
    "# SQL query to count loan applications for \"University of Wisconsin Credit Union\"\n",
    "query = \"\"\"\n",
    "    SELECT COUNT(*) AS application_count\n",
    "    FROM banks\n",
    "    INNER JOIN loans ON banks.lei_2020 = loans.lei\n",
    "    WHERE banks.respondent_name = 'University of Wisconsin Credit Union'\n",
    "\"\"\"\n",
    "\n",
    "# Get the execution plan\n",
    "explain_plan = spark.sql(query).explain(\"formatted\")\n",
    "\n",
    "#Comments to Write Based on the Output\n",
    "#1. Which table is sent to every executor via a BroadcastExchange operation?\n",
    "#A) The banks table is broadcasted to every executor, as it is smaller and fits within Spark's broadcast threshold.\n",
    "\n",
    "#2. Does the plan involve HashAggregates? If so, which ones?\n",
    "#A) Yes, the plan does involve HashAggregates and they are as follows:\n",
    "#i) Partial HashAggregate: Counts rows in each partition first (partial_count(1))\n",
    "#ii) Final HashAggregate: Combines these counts to produce the total count (count(1))"
   ]
  },
  {
   "cell_type": "code",
   "execution_count": 14,
   "id": "ad7c0c03-ecf1-45f5-ac98-7d3d6b6068e3",
   "metadata": {},
   "outputs": [
    {
     "name": "stderr",
     "output_type": "stream",
     "text": [
      "                                                                                \r"
     ]
    },
    {
     "data": {
      "text/plain": [
       "{'Milwaukee': 3.1173465727097907,\n",
       " 'Waukesha': 2.8758225602027756,\n",
       " 'Washington': 2.851009389671362,\n",
       " 'Dane': 2.890674955595027,\n",
       " 'Brown': 3.010949119373777,\n",
       " 'Racine': 3.099783715012723,\n",
       " 'Outagamie': 2.979661835748792,\n",
       " 'Winnebago': 3.0284761904761908,\n",
       " 'Ozaukee': 2.8673765432098772,\n",
       " 'Sheboygan': 2.995511111111111}"
      ]
     },
     "execution_count": 14,
     "metadata": {},
     "output_type": "execute_result"
    }
   ],
   "source": [
    "#q7\n",
    "# SQL query to calculate the average interest rates for Wells Fargo applications\n",
    "query = \"\"\"\n",
    "    SELECT counties.NAME AS county_name, AVG(loans.interest_rate) AS avg_interest_rate\n",
    "    FROM loans\n",
    "    INNER JOIN counties ON loans.county_code = counties.STATE * 1000 + counties.COUNTY\n",
    "    WHERE loans.lei = (SELECT lei_2020 FROM banks WHERE respondent_name LIKE '%Wells Fargo%')\n",
    "    GROUP BY counties.NAME\n",
    "    ORDER BY COUNT(*) DESC\n",
    "    LIMIT 10\n",
    "\"\"\"\n",
    "\n",
    "# Execute the SQL query\n",
    "average_interest_rates_df = spark.sql(query)\n",
    "\n",
    "# Collect the results into a dictionary\n",
    "average_interest_rates = {row.county_name: row.avg_interest_rate for row in average_interest_rates_df.collect()}\n",
    "\n",
    "# Display the dictionary\n",
    "average_interest_rates\n"
   ]
  },
  {
   "cell_type": "code",
   "execution_count": 15,
   "id": "86086e52-d405-4cae-9510-67c145927782",
   "metadata": {},
   "outputs": [
    {
     "data": {
      "image/png": "[encoded data removed]",
      "text/plain": [
       "<Figure size 1000x600 with 1 Axes>"
      ]
     },
     "metadata": {},
     "output_type": "display_data"
    }
   ],
   "source": [
    "import matplotlib.pyplot as plt\n",
    "\n",
    "# Ensure that average_interest_rates dictionary has been created\n",
    "# average_interest_rates = { ... } # This dictionary should have the results from Q7\n",
    "\n",
    "# Create a bar plot of the average interest rates\n",
    "plt.figure(figsize=(10, 6))\n",
    "plt.bar(average_interest_rates.keys(), average_interest_rates.values(), color='skyblue')\n",
    "plt.xlabel('County')\n",
    "plt.ylabel('Average Interest Rate')\n",
    "plt.title('Average Interest Rates for Wells Fargo Applications by County')\n",
    "plt.xticks(rotation=45)\n",
    "plt.tight_layout()  # Adjust layout to make room for x-axis labels\n",
    "plt.show()"
   ]
  },
  {
   "cell_type": "code",
   "execution_count": 16,
   "id": "9dea4b23-dcea-4abb-86cd-a7013734ba18",
   "metadata": {},
   "outputs": [
    {
     "name": "stdout",
     "output_type": "stream",
     "text": [
      "== Physical Plan ==\n",
      "AdaptiveSparkPlan isFinalPlan=false\n",
      "+- HashAggregate(keys=[county_code#992], functions=[avg(cast(interest_rate#1011 as double))])\n",
      "   +- HashAggregate(keys=[county_code#992], functions=[partial_avg(cast(interest_rate#1011 as double))])\n",
      "      +- FileScan parquet spark_catalog.default.loans[county_code#992,interest_rate#1011] Batched: true, Bucketed: true, DataFilters: [], Format: Parquet, Location: InMemoryFileIndex(1 paths)[hdfs://nn:9000/user/hive/warehouse/loans], PartitionFilters: [], PushedFilters: [], ReadSchema: struct<county_code:string,interest_rate:string>, SelectedBucketsCount: 8 out of 8\n",
      "\n",
      "\n",
      "== Physical Plan ==\n",
      "AdaptiveSparkPlan isFinalPlan=false\n",
      "+- HashAggregate(keys=[lei#989], functions=[avg(cast(interest_rate#1011 as double))])\n",
      "   +- Exchange hashpartitioning(lei#989, 200), ENSURE_REQUIREMENTS, [plan_id=843]\n",
      "      +- HashAggregate(keys=[lei#989], functions=[partial_avg(cast(interest_rate#1011 as double))])\n",
      "         +- FileScan parquet spark_catalog.default.loans[lei#989,interest_rate#1011] Batched: true, Bucketed: false (bucket column(s) not read), DataFilters: [], Format: Parquet, Location: InMemoryFileIndex(1 paths)[hdfs://nn:9000/user/hive/warehouse/loans], PartitionFilters: [], PushedFilters: [], ReadSchema: struct<lei:string,interest_rate:string>\n",
      "\n",
      "\n"
     ]
    }
   ],
   "source": [
    "#q8\n",
    "# Query to compute mean interest rates grouped by county_code\n",
    "county_code_mean_query = spark.sql(\"\"\"\n",
    "    SELECT county_code, AVG(interest_rate) AS average_interest_rate\n",
    "    FROM loans\n",
    "    GROUP BY county_code\n",
    "\"\"\")\n",
    "\n",
    "# Explain the execution plan\n",
    "county_code_mean_query.explain()\n",
    "\n",
    "# Query to compute mean interest rates grouped by lei\n",
    "lei_mean_query = spark.sql(\"\"\"\n",
    "    SELECT lei, AVG(interest_rate) AS average_interest_rate\n",
    "    FROM loans\n",
    "    GROUP BY lei\n",
    "\"\"\")\n",
    "\n",
    "# Explain the execution plan\n",
    "lei_mean_query.explain()\n",
    "\n",
    "# Q8 Analysis Comments:\n",
    "# # Grouping by `county_code` does not require network I/O because `county_code` was bucketed,\n",
    "# so data for each county is already co-located on the same nodes.\n",
    "# Grouping by `lei` requires network I/O because `lei` was not bucketed,\n",
    "# necessitating a data shuffle to bring all rows with the same `lei` together for the aggregation.\n"
   ]
  },
  {
   "cell_type": "code",
   "execution_count": 17,
   "id": "d3904d37-e31b-4dc2-8008-02a6d4585409",
   "metadata": {},
   "outputs": [
    {
     "name": "stdout",
     "output_type": "stream",
     "text": [
      "root\n",
      " |-- loan_amount: double (nullable = false)\n",
      " |-- income: double (nullable = false)\n",
      " |-- interest_rate: double (nullable = false)\n",
      " |-- approval: decimal(2,1) (nullable = false)\n",
      "\n"
     ]
    }
   ],
   "source": [
    "#Part4\n",
    "# Extracting features and label from the loans table\n",
    "df = spark.sql(\"\"\"\n",
    "    SELECT \n",
    "        CASE WHEN action_taken = 1 THEN 1.0 ELSE 0.0 END AS approval,\n",
    "        CAST(loan_amount AS DOUBLE) AS loan_amount,\n",
    "        CAST(income AS DOUBLE) AS income,\n",
    "        CAST(interest_rate AS DOUBLE) AS interest_rate\n",
    "    FROM loans\n",
    "\"\"\")\n",
    "\n",
    "# Fill missing values with 0.0 for all features and label columns\n",
    "df = df.fillna(0.0)\n",
    "\n",
    "# Ensure the order of columns is correct (order matters)\n",
    "df = df.select(\"loan_amount\", \"income\", \"interest_rate\", \"approval\")\n",
    "\n",
    "# Split the DataFrame into training and testing sets\n",
    "train, test = df.randomSplit([0.8, 0.2], seed=41)\n",
    "\n",
    "# Cache the training DataFrame\n",
    "train.cache()\n",
    "\n",
    "# Display the schema of the resulting DataFrame to verify\n",
    "df.printSchema()"
   ]
  },
  {
   "cell_type": "code",
   "execution_count": 18,
   "id": "57ade13c-1383-48fe-a96f-d671e21ae26b",
   "metadata": {},
   "outputs": [
    {
     "name": "stderr",
     "output_type": "stream",
     "text": [
      "24/11/05 20:40:09 WARN DAGScheduler: Broadcasting large task binary with size 1076.5 KiB\n",
      "24/11/05 20:40:09 WARN DAGScheduler: Broadcasting large task binary with size 1368.8 KiB\n",
      "24/11/05 20:40:09 WARN DAGScheduler: Broadcasting large task binary with size 1689.6 KiB\n",
      "24/11/05 20:40:10 WARN DAGScheduler: Broadcasting large task binary with size 2043.3 KiB\n",
      "24/11/05 20:40:10 WARN DAGScheduler: Broadcasting large task binary with size 2.3 MiB\n",
      "                                                                                \r"
     ]
    },
    {
     "data": {
      "text/plain": [
       "{'depth=1': 0.8809425750509244,\n",
       " 'depth=5': 0.8929195560947918,\n",
       " 'depth=10': 0.8954796914480349,\n",
       " 'depth=15': 0.8948674851679115,\n",
       " 'depth=20': 0.893943610236089}"
      ]
     },
     "execution_count": 18,
     "metadata": {},
     "output_type": "execute_result"
    }
   ],
   "source": [
    "#q9: Import required libraries\n",
    "from pyspark.ml.feature import VectorAssembler\n",
    "from pyspark.ml.classification import DecisionTreeClassifier\n",
    "from pyspark.ml.evaluation import MulticlassClassificationEvaluator\n",
    "\n",
    "# Create a VectorAssembler to combine features into a single column\n",
    "assembler = VectorAssembler(inputCols=[\"loan_amount\", \"income\", \"interest_rate\"], outputCol=\"features\")\n",
    "\n",
    "# Transform the training data\n",
    "train_data = assembler.transform(train)\n",
    "\n",
    "# Transform the test data\n",
    "test_data = assembler.transform(test)\n",
    "\n",
    "# Initialize a dictionary to store the accuracy results\n",
    "accuracies = {}\n",
    "\n",
    "# Define the max depths to test\n",
    "max_depths = [1, 5, 10, 15, 20]\n",
    "\n",
    "# Train Decision Tree Classifiers for each max depth\n",
    "for depth in max_depths:\n",
    "    # Create the Decision Tree Classifier\n",
    "    dt = DecisionTreeClassifier(labelCol=\"approval\", featuresCol=\"features\", maxDepth=depth, seed=41)\n",
    "    \n",
    "    # Train the model\n",
    "    model = dt.fit(train_data)\n",
    "    \n",
    "    # Make predictions on the test data\n",
    "    predictions = model.transform(test_data)\n",
    "    \n",
    "    # Evaluate the accuracy of the model\n",
    "    evaluator = MulticlassClassificationEvaluator(labelCol=\"approval\", predictionCol=\"prediction\", metricName=\"accuracy\")\n",
    "    accuracy = evaluator.evaluate(predictions)\n",
    "    \n",
    "    # Store the accuracy in the dictionary\n",
    "    accuracies[f'depth={depth}'] = accuracy\n",
    "\n",
    "# Display the accuracies\n",
    "accuracies"
   ]
  },
  {
   "cell_type": "code",
   "execution_count": 19,
   "id": "8b98f6b4-523a-47ff-bffb-ce59c3985779",
   "metadata": {},
   "outputs": [],
   "source": [
    "#q10 \n",
    "#Analysis:\n",
    "# No, the test accuracy does not always increase with a larger max depth. As depth increases,\n",
    "# the model can become too complex, leading to overfitting on the training data.\n",
    "# While this may improve accuracy on the training set, it often reduces generalization\n",
    "# on the test set, where the model performs worse due to capturing noise rather than the actual\n",
    "# underlying patterns."
   ]
  }
 ],
 "metadata": {
  "kernelspec": {
   "display_name": "Python 3 (ipykernel)",
   "language": "python",
   "name": "python3"
  },
  "language_info": {
   "codemirror_mode": {
    "name": "ipython",
    "version": 3
   },
   "file_extension": ".py",
   "mimetype": "text/x-python",
   "name": "python",
   "nbconvert_exporter": "python",
   "pygments_lexer": "ipython3",
   "version": "3.10.12"
  }
 },
 "nbformat": 4,
 "nbformat_minor": 5
}
